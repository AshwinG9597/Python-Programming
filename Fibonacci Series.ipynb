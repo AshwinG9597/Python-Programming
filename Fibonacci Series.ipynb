{
 "cells": [
  {
   "cell_type": "markdown",
   "id": "bde921fa",
   "metadata": {},
   "source": [
    "# Program to print the Fibonacci Series"
   ]
  },
  {
   "cell_type": "code",
   "execution_count": 12,
   "id": "fccaf979",
   "metadata": {},
   "outputs": [
    {
     "data": {
      "text/plain": [
       "2"
      ]
     },
     "execution_count": 12,
     "metadata": {},
     "output_type": "execute_result"
    }
   ],
   "source": [
    "# done with recursion\n",
    "def fibo(n):\n",
    "    if n == 0:\n",
    "        return 0\n",
    "    elif n == 1:\n",
    "        return 1\n",
    "    else:\n",
    "        return fibo(n-1) + fibo(n-2)\n",
    "fibo(3)"
   ]
  },
  {
   "cell_type": "code",
   "execution_count": 4,
   "id": "55c2fb27",
   "metadata": {},
   "outputs": [
    {
     "name": "stdout",
     "output_type": "stream",
     "text": [
      "0\n",
      "1\n",
      "1\n",
      "2\n",
      "3\n"
     ]
    }
   ],
   "source": [
    "# print the series\n",
    "for i in range(5):\n",
    "    print(fibo(i))"
   ]
  },
  {
   "cell_type": "markdown",
   "id": "552674aa",
   "metadata": {},
   "source": [
    "### N numbers in the fibonacci sequence"
   ]
  },
  {
   "cell_type": "code",
   "execution_count": 14,
   "id": "032df575",
   "metadata": {},
   "outputs": [
    {
     "data": {
      "text/plain": [
       "[0, 1, 1, 2, 3]"
      ]
     },
     "execution_count": 14,
     "metadata": {},
     "output_type": "execute_result"
    }
   ],
   "source": [
    "# another way to achieve the fibonacci series with for loop\n",
    "def new_fibo(n):\n",
    "    val = [0,1]\n",
    "    for i in range(n-2):\n",
    "        val.append(val[-1]+val[-2])\n",
    "    return val\n",
    "new_fibo(5)"
   ]
  },
  {
   "cell_type": "code",
   "execution_count": null,
   "id": "f3fbd770",
   "metadata": {},
   "outputs": [],
   "source": []
  },
  {
   "cell_type": "code",
   "execution_count": null,
   "id": "7d8a861d",
   "metadata": {},
   "outputs": [],
   "source": []
  }
 ],
 "metadata": {
  "kernelspec": {
   "display_name": "Python 3 (ipykernel)",
   "language": "python",
   "name": "python3"
  },
  "language_info": {
   "codemirror_mode": {
    "name": "ipython",
    "version": 3
   },
   "file_extension": ".py",
   "mimetype": "text/x-python",
   "name": "python",
   "nbconvert_exporter": "python",
   "pygments_lexer": "ipython3",
   "version": "3.11.7"
  }
 },
 "nbformat": 4,
 "nbformat_minor": 5
}
