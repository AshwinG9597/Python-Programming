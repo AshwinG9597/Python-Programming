{
 "cells": [
  {
   "cell_type": "markdown",
   "id": "3a8b8661",
   "metadata": {},
   "source": [
    "# To check if a number is a prime number"
   ]
  },
  {
   "cell_type": "code",
   "execution_count": 3,
   "id": "2793c379",
   "metadata": {},
   "outputs": [],
   "source": [
    "def check_prime(n):\n",
    "    if n <= 1:\n",
    "        print('not prime')\n",
    "    for i in range(2,n//2):\n",
    "        if n%i == 0:\n",
    "            print('not prime')\n",
    "            break\n",
    "    else:\n",
    "        print('prime')"
   ]
  },
  {
   "cell_type": "code",
   "execution_count": 2,
   "id": "0a0c0e5f",
   "metadata": {},
   "outputs": [
    {
     "name": "stdout",
     "output_type": "stream",
     "text": [
      "prime\n"
     ]
    }
   ],
   "source": [
    "check_prime(19)"
   ]
  },
  {
   "cell_type": "markdown",
   "id": "89787a9f",
   "metadata": {},
   "source": [
    "# To get all the prime numbers within a given range"
   ]
  },
  {
   "cell_type": "code",
   "execution_count": 44,
   "id": "8468489a",
   "metadata": {},
   "outputs": [],
   "source": [
    "def check_prime_list(n):\n",
    "    val = []\n",
    "    for i in range(2,n):\n",
    "        is_prime = True\n",
    "        for x in range(2,i):\n",
    "            if i%x==0:\n",
    "                is_prime = False\n",
    "                break\n",
    "        if is_prime:\n",
    "            val.append(i)\n",
    "    return val"
   ]
  },
  {
   "cell_type": "code",
   "execution_count": 46,
   "id": "1bdcbda8",
   "metadata": {},
   "outputs": [
    {
     "data": {
      "text/plain": [
       "[2, 3, 5, 7, 11, 13, 17, 19]"
      ]
     },
     "execution_count": 46,
     "metadata": {},
     "output_type": "execute_result"
    }
   ],
   "source": [
    "check_prime_list(20)"
   ]
  },
  {
   "cell_type": "code",
   "execution_count": null,
   "id": "968541eb",
   "metadata": {},
   "outputs": [],
   "source": []
  }
 ],
 "metadata": {
  "kernelspec": {
   "display_name": "Python 3 (ipykernel)",
   "language": "python",
   "name": "python3"
  },
  "language_info": {
   "codemirror_mode": {
    "name": "ipython",
    "version": 3
   },
   "file_extension": ".py",
   "mimetype": "text/x-python",
   "name": "python",
   "nbconvert_exporter": "python",
   "pygments_lexer": "ipython3",
   "version": "3.11.7"
  }
 },
 "nbformat": 4,
 "nbformat_minor": 5
}
